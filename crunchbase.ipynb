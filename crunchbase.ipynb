{
 "cells": [
  {
   "cell_type": "code",
   "execution_count": 4,
   "metadata": {},
   "outputs": [],
   "source": [
    "import pandas as pd\n",
    "from numpy import mean\n",
    "\n",
    "\n",
    "data = pd.read_excel(\"/Users/thedarkknight/Downloads/dataset.xlsx\", sheet_name=['Companies', 'Rounds', 'Investments', 'Acquisitions','Additions'])\n"
   ]
  },
  {
   "cell_type": "code",
   "execution_count": 140,
   "metadata": {},
   "outputs": [],
   "source": [
    "import matplotlib.pyplot as plt"
   ]
  },
  {
   "cell_type": "code",
   "execution_count": 96,
   "metadata": {},
   "outputs": [
    {
     "name": "stdout",
     "output_type": "stream",
     "text": [
      "odict_keys(['Companies', 'Rounds', 'Investments', 'Acquisitions', 'Additions'])\n"
     ]
    }
   ],
   "source": [
    "companies = data[\"Companies\"]\n",
    "rounds = data[\"Rounds\"]\n",
    "investments = data[\"Investments\"]\n",
    "acquisitions = data[\"Acquisitions\"]\n",
    "additions = data[\"Additions\"]\n",
    "print(data.keys())"
   ]
  },
  {
   "cell_type": "code",
   "execution_count": 161,
   "metadata": {},
   "outputs": [
    {
     "name": "stdout",
     "output_type": "stream",
     "text": [
      "region length 1090\n",
      "city length 4189\n"
     ]
    }
   ],
   "source": [
    "companies.head()\n",
    "# companies.info()\n",
    "# type_ = rounds.funding_round_type\n",
    "# companies.describe(include = 'all')\n",
    "region = companies.region\n",
    "city = companies.city\n",
    "print(\"region length\",len(region.unique()))\n",
    "print(\"city length\",len(city.unique()))\n",
    "# q = companies.permalink.value_counts()\n",
    "# filter = companies[companies.permalink.isin(e)]\n",
    "# companies_ = companies.dropna(axis=0)\n",
    "# companies_.shape"
   ]
  },
  {
   "cell_type": "code",
   "execution_count": 80,
   "metadata": {},
   "outputs": [
    {
     "name": "stdout",
     "output_type": "stream",
     "text": [
      "shape is  (49438, 18)\n",
      "Index(['permalink', 'name', 'homepage_url', 'category_list', 'market',\n",
      "       'funding_total_usd', 'status', 'country_code', 'state_code', 'region',\n",
      "       'city', 'funding_rounds', 'founded_at', 'founded_month',\n",
      "       'founded_quarter', 'founded_year', 'first_funding_at',\n",
      "       'last_funding_at'],\n",
      "      dtype='object')\n"
     ]
    }
   ],
   "source": [
    "print(\"shape is \", companies.shape)\n",
    "print(companies.columns)"
   ]
  },
  {
   "cell_type": "code",
   "execution_count": 94,
   "metadata": {},
   "outputs": [
    {
     "data": {
      "text/html": [
       "<div>\n",
       "<style scoped>\n",
       "    .dataframe tbody tr th:only-of-type {\n",
       "        vertical-align: middle;\n",
       "    }\n",
       "\n",
       "    .dataframe tbody tr th {\n",
       "        vertical-align: top;\n",
       "    }\n",
       "\n",
       "    .dataframe thead th {\n",
       "        text-align: right;\n",
       "    }\n",
       "</style>\n",
       "<table border=\"1\" class=\"dataframe\">\n",
       "  <thead>\n",
       "    <tr style=\"text-align: right;\">\n",
       "      <th></th>\n",
       "      <th>name</th>\n",
       "      <th>category_list</th>\n",
       "      <th>market</th>\n",
       "      <th>funding_total_usd</th>\n",
       "      <th>status</th>\n",
       "      <th>country_code</th>\n",
       "      <th>region</th>\n",
       "      <th>city</th>\n",
       "      <th>funding_rounds</th>\n",
       "      <th>founded_year</th>\n",
       "    </tr>\n",
       "  </thead>\n",
       "  <tbody>\n",
       "    <tr>\n",
       "      <td>0</td>\n",
       "      <td>#waywire</td>\n",
       "      <td>|Entertainment|Politics|Social Media|News|</td>\n",
       "      <td>News</td>\n",
       "      <td>1750000</td>\n",
       "      <td>acquired</td>\n",
       "      <td>USA</td>\n",
       "      <td>New York City</td>\n",
       "      <td>New York</td>\n",
       "      <td>1</td>\n",
       "      <td>2012.0</td>\n",
       "    </tr>\n",
       "    <tr>\n",
       "      <td>1</td>\n",
       "      <td>&amp;TV Communications</td>\n",
       "      <td>|Games|</td>\n",
       "      <td>Games</td>\n",
       "      <td>4000000</td>\n",
       "      <td>operating</td>\n",
       "      <td>USA</td>\n",
       "      <td>Los Angeles</td>\n",
       "      <td>Los Angeles</td>\n",
       "      <td>2</td>\n",
       "      <td>NaN</td>\n",
       "    </tr>\n",
       "    <tr>\n",
       "      <td>2</td>\n",
       "      <td>'Rock' Your Paper</td>\n",
       "      <td>|Publishing|Education|</td>\n",
       "      <td>Publishing</td>\n",
       "      <td>40000</td>\n",
       "      <td>operating</td>\n",
       "      <td>EST</td>\n",
       "      <td>Tallinn</td>\n",
       "      <td>Tallinn</td>\n",
       "      <td>1</td>\n",
       "      <td>2012.0</td>\n",
       "    </tr>\n",
       "    <tr>\n",
       "      <td>3</td>\n",
       "      <td>(In)Touch Network</td>\n",
       "      <td>|Electronics|Guides|Coffee|Restaurants|Music|i...</td>\n",
       "      <td>Electronics</td>\n",
       "      <td>1500000</td>\n",
       "      <td>operating</td>\n",
       "      <td>GBR</td>\n",
       "      <td>London</td>\n",
       "      <td>London</td>\n",
       "      <td>1</td>\n",
       "      <td>2011.0</td>\n",
       "    </tr>\n",
       "    <tr>\n",
       "      <td>4</td>\n",
       "      <td>-R- Ranch and Mine</td>\n",
       "      <td>|Tourism|Entertainment|Games|</td>\n",
       "      <td>Tourism</td>\n",
       "      <td>60000</td>\n",
       "      <td>operating</td>\n",
       "      <td>USA</td>\n",
       "      <td>Dallas</td>\n",
       "      <td>Fort Worth</td>\n",
       "      <td>2</td>\n",
       "      <td>2014.0</td>\n",
       "    </tr>\n",
       "  </tbody>\n",
       "</table>\n",
       "</div>"
      ],
      "text/plain": [
       "                 name                                      category_list  \\\n",
       "0            #waywire         |Entertainment|Politics|Social Media|News|   \n",
       "1  &TV Communications                                            |Games|   \n",
       "2   'Rock' Your Paper                             |Publishing|Education|   \n",
       "3   (In)Touch Network  |Electronics|Guides|Coffee|Restaurants|Music|i...   \n",
       "4  -R- Ranch and Mine                      |Tourism|Entertainment|Games|   \n",
       "\n",
       "        market  funding_total_usd     status country_code         region  \\\n",
       "0         News            1750000   acquired          USA  New York City   \n",
       "1        Games            4000000  operating          USA    Los Angeles   \n",
       "2   Publishing              40000  operating          EST        Tallinn   \n",
       "3  Electronics            1500000  operating          GBR         London   \n",
       "4      Tourism              60000  operating          USA         Dallas   \n",
       "\n",
       "          city  funding_rounds  founded_year  \n",
       "0     New York               1        2012.0  \n",
       "1  Los Angeles               2           NaN  \n",
       "2      Tallinn               1        2012.0  \n",
       "3       London               1        2011.0  \n",
       "4   Fort Worth               2        2014.0  "
      ]
     },
     "execution_count": 94,
     "metadata": {},
     "output_type": "execute_result"
    }
   ],
   "source": [
    "drop_companies = ['permalink','homepage_url','state_code','founded_at', 'founded_month','founded_quarter','first_funding_at','last_funding_at']\n",
    "companies_drop = companies.drop(columns=drop_companies,axis=1) \n",
    "companies_drop.head()"
   ]
  },
  {
   "cell_type": "code",
   "execution_count": 167,
   "metadata": {},
   "outputs": [],
   "source": [
    "companies_market = companies_drop.dropna(subset=['market'],axis=0)\n",
    "funding_by_market = companies_market.groupby(\"market\").funding_total_usd.sum()/1e9\n",
    "funding_top20 = funding_by_market.sort_values(ascending=False)[:20]\n",
    "# plt.show((1000,1000))\n",
    "# funding_top20.plot.bar()\n",
    "# plt.show((1000,1000))"
   ]
  },
  {
   "cell_type": "code",
   "execution_count": 209,
   "metadata": {},
   "outputs": [],
   "source": [
    "companies_market = companies_drop.dropna(subset=['market'],axis=0)\n",
    "funding_by_market_mean = companies_market.groupby(\"market\").mean()\n",
    "funding_top20 = funding_by_market_mean.funding_total_usd.sort_values(ascending=False)[:20]\n",
    "# plt.show((1000,1000))\n",
    "# funding_top20.plot.bar()\n",
    "# plt.show((1000,1000))"
   ]
  },
  {
   "cell_type": "code",
   "execution_count": 210,
   "metadata": {},
   "outputs": [],
   "source": [
    "rounds_avg = funding_by_market_mean.sort_values(by=['funding_total_usd'],ascending=False)[:10].funding_rounds\n",
    "# plt.show((1000,1000))\n",
    "# rounds_avg.plot.bar()\n",
    "# plt.show((1000,1000))b\n"
   ]
  },
  {
   "cell_type": "code",
   "execution_count": null,
   "metadata": {},
   "outputs": [],
   "source": [
    "companies_market = companies_drop.dropna(subset=['market'],axis=0)\n",
    "funding_by_market = companies_market.groupby(\"market\").funding_total_usd.sum()/1e9\n",
    "funding_top20 = funding_by_market.sort_values(ascending=False)[:20]\n",
    "# plt.show((1000,1000))\n",
    "# funding_top20.plot.bar()\n",
    "# plt.show((1000,1000))"
   ]
  },
  {
   "cell_type": "code",
   "execution_count": 170,
   "metadata": {},
   "outputs": [],
   "source": [
    "companies_country = companies_drop.dropna(subset=['country_code'],axis=0)\n",
    "funding_by_country = companies_country.groupby(\"country_code\").funding_total_usd.sum()/1e8\n",
    "funding_top10 = funding_by_country.sort_values(ascending=False)[:10]\n",
    "# plt.show((1000,1000))\n",
    "# funding_top10.plot.bar()\n",
    "# plt.show((1000,1000))"
   ]
  },
  {
   "cell_type": "code",
   "execution_count": 175,
   "metadata": {},
   "outputs": [],
   "source": [
    "companies_region = companies_drop.dropna(subset=['region'],axis=0)\n",
    "funding_by_region = companies_region.groupby(\"region\").funding_total_usd.sum()/1e9\n",
    "funding_top20 = funding_by_region.sort_values(ascending=False)[:10]\n",
    "# plt.show((1000,1000))\n",
    "# funding_top20.plot.bar()"
   ]
  },
  {
   "cell_type": "code",
   "execution_count": 215,
   "metadata": {},
   "outputs": [],
   "source": [
    "companies_status = companies_drop.dropna(subset=['status'],axis=0)\n",
    "funding_by_status = companies_status.groupby(\"status\").funding_total_usd.sum()/1e9\n",
    "funding_top20 = funding_by_status.sort_values(ascending=False)\n",
    "# plt.show((1000,1000))\n",
    "# funding_top20.plot.bar()b"
   ]
  },
  {
   "cell_type": "code",
   "execution_count": 233,
   "metadata": {},
   "outputs": [],
   "source": [
    "closed = companies_drop[companies_drop.status=='closed']\n",
    "funding_by_closed = closed.groupby(\"market\").count()\n",
    "counts = funding_by_closed.funding_total_usd.sort_values(ascending=False)[:20]\n",
    "# funding_top20 = funding_by_closed.funding_total_usd.sort_values(ascending=False)[:20]\n",
    "# plt.show((1000,1000))\n",
    "# counts.plot.bar()\n"
   ]
  },
  {
   "cell_type": "code",
   "execution_count": 189,
   "metadata": {},
   "outputs": [],
   "source": [
    "# companies_market.market.unique()\n",
    "# companies_market2 = companies_drop.dropna(subset=['market'],axis=0)\n",
    "count_by_market = companies_market.groupby(\"market\").funding_rounds.count()\n",
    "count_top15 = count_by_market.sort_values(ascending=False)[:15]\n",
    "# plt.show((1000,1000))\n",
    "# count_top15.plot.bar()"
   ]
  },
  {
   "cell_type": "code",
   "execution_count": 178,
   "metadata": {},
   "outputs": [
    {
     "data": {
      "text/plain": [
       "<matplotlib.axes._subplots.AxesSubplot at 0x1337614d0>"
      ]
     },
     "execution_count": 178,
     "metadata": {},
     "output_type": "execute_result"
    },
    {
     "data": {
      "image/png": "[encoded data removed]",
      "text/plain": [
       "<Figure size 432x288 with 1 Axes>"
      ]
     },
     "metadata": {
      "needs_background": "light"
     },
     "output_type": "display_data"
    }
   ],
   "source": [
    "companies_funding_rounds = companies_drop.dropna(subset=['funding_rounds'],axis=0)\n",
    "\n",
    "funding_by_funding_rounds = companies_funding_rounds.groupby(\"market\").funding_rounds.mean()\n",
    "funding_top10 = funding_by_funding_rounds.sort_values(ascending=False)[:20]\n",
    "plt.show((1000,1000))\n",
    "funding_top10.plot.bar()\n"
   ]
  },
  {
   "cell_type": "code",
   "execution_count": 251,
   "metadata": {},
   "outputs": [
    {
     "data": {
      "text/plain": [
       "funded_year  funding_round_type\n",
       "2009.0       post_ipo_equity       6.355856\n",
       "             post_ipo_debt         5.239375\n",
       "2005.0       post_ipo_equity       5.011250\n",
       "2008.0       post_ipo_equity       4.746714\n",
       "2010.0       post_ipo_debt         3.000000\n",
       "2014.0       post_ipo_debt         2.721963\n",
       "2011.0       secondary_market      2.062500\n",
       "2010.0       secondary_market      1.497311\n",
       "2008.0       private_equity        1.351512\n",
       "2005.0       private_equity        1.326425\n",
       "2007.0       private_equity        1.147511\n",
       "2012.0       post_ipo_equity       1.131340\n",
       "2013.0       post_ipo_debt         1.104000\n",
       "2014.0       private_equity        1.008655\n",
       "2010.0       private_equity        0.782639\n",
       "2009.0       private_equity        0.778711\n",
       "2002.0       debt_financing        0.703333\n",
       "2006.0       private_equity        0.694340\n",
       "             debt_financing        0.668403\n",
       "2013.0       post_ipo_equity       0.654717\n",
       "Name: raised_amount_usd, dtype: float64"
      ]
     },
     "execution_count": 251,
     "metadata": {},
     "output_type": "execute_result"
    }
   ],
   "source": [
    "rounds_type_year = rounds.dropna(subset=[\"funded_year\",\"funding_round_type\"],axis=0)\n",
    "rounds_type_year\n",
    "funding_by_type_year = rounds_type_year.groupby([\"funded_year\",\"funding_round_type\"]).mean()/1e8\n",
    "funding_top20 = funding_by_type_year.raised_amount_usd.sort_values(ascending=False)[:20]\n",
    "funding_top20\n",
    "# plt.show((1000,1000))\n",
    "# funding_top20.plot.bar()"
   ]
  },
  {
   "cell_type": "code",
   "execution_count": 288,
   "metadata": {},
   "outputs": [],
   "source": [
    "rounds_year = rounds.dropna(subset=[\"funded_year\",\"raised_amount_usd\"],axis=0)\n",
    "funding_by_year = rounds_year.groupby(\"funded_year\").raised_amount_usd.sum()/1e9\n",
    "# funding_by_year.iloc[:-10]\n",
    "# funding_top20 = funding_by_year.sort_values(ascending=False)[:20]\n",
    "# funding_top20\n",
    "# plt.show((1000,1000))\n",
    "# funding_by_year.plot.bar()"
   ]
  },
  {
   "cell_type": "code",
   "execution_count": 289,
   "metadata": {},
   "outputs": [],
   "source": [
    "rounds_type = rounds.dropna(subset=[\"funding_round_type\",\"raised_amount_usd\"],axis=0)\n",
    "funding_by_type = rounds_type.groupby(\"funding_round_type\").raised_amount_usd.sum()/1e9\n",
    "# funding_by_year.iloc[:-10]\n",
    "# funding_top20 = funding_by_year.sort_values(ascending=False)[:20]\n",
    "# funding_top20\n",
    "# plt.show((1000,1000))\n",
    "# funding_by_type.plot.bar()"
   ]
  },
  {
   "cell_type": "code",
   "execution_count": 303,
   "metadata": {},
   "outputs": [],
   "source": [
    "rounds_type = rounds.dropna(subset=[\"funding_round_type\",\"raised_amount_usd\"],axis=0)\n",
    "funding_by_type = rounds_type.groupby(\"funding_round_type\").raised_amount_usd.mean()/1e6\n",
    "# funding_by_type\n",
    "funding_top20 = funding_by_type.sort_values(ascending=False)\n",
    "# funding_top20\n",
    "plt.show((1000,1000))\n",
    "# funding_top20.plot.bar()"
   ]
  },
  {
   "cell_type": "code",
   "execution_count": 305,
   "metadata": {},
   "outputs": [],
   "source": [
    "rounds_type = rounds.dropna(subset=[\"funding_round_type\",\"raised_amount_usd\"],axis=0)\n",
    "funding_by_type = rounds_type.groupby(\"funding_round_type\").raised_amount_usd.count()\n",
    "# funding_by_type\n",
    "funding_top20 = funding_by_type.sort_values(ascending=False)\n",
    "# funding_top20\n",
    "# plt.show((1000,1000))\n",
    "# funding_top20.plot.bar()"
   ]
  },
  {
   "cell_type": "code",
   "execution_count": 319,
   "metadata": {},
   "outputs": [
    {
     "data": {
      "text/plain": [
       "<matplotlib.axes._subplots.AxesSubplot at 0x128c4c950>"
      ]
     },
     "execution_count": 319,
     "metadata": {},
     "output_type": "execute_result"
    },
    {
     "data": {
      "image/png": "[encoded data removed]",
      "text/plain": [
       "<Figure size 432x288 with 1 Axes>"
      ]
     },
     "metadata": {
      "needs_background": "light"
     },
     "output_type": "display_data"
    }
   ],
   "source": [
    "venture = rounds[rounds.funding_round_type=='venture']\n",
    "funding_by_code = rounds_type.groupby(\"funding_round_code\").mean()/1e6\n",
    "q = funding_by_code.raised_amount_usd\n",
    "# plt.show((1000,1000))\n",
    "q.plot.bar()\n",
    "# q\n"
   ]
  },
  {
   "cell_type": "code",
   "execution_count": 336,
   "metadata": {},
   "outputs": [
    {
     "name": "stdout",
     "output_type": "stream",
     "text": [
      "790\n"
     ]
    }
   ],
   "source": [
    "categories = investments.dropna(subset=[\"company_category_list\"],axis=0)\n",
    "cats = categories.company_category_list\n",
    "uniq = set()\n",
    "for cat in cats:\n",
    "    split = cat.split(\"|\")[1:-1]\n",
    "    for s in split:\n",
    "        uniq.add(s)\n",
    "print(len(uniq))"
   ]
  },
  {
   "cell_type": "code",
   "execution_count": 349,
   "metadata": {},
   "outputs": [],
   "source": [
    "investments_cats = investments.dropna(subset=[\"company_category_list\",\"raised_amount_usd\"],axis=0)\n",
    "diction = dict()\n",
    "for key in uniq:\n",
    "    diction[key] = 0\n",
    "for index,row in investments_cats.iterrows():\n",
    "    split = row[\"company_category_list\"].split(\"|\")[1:-1]\n",
    "    for s in split:\n",
    "        diction[s] += row[\"raised_amount_usd\"]/1e9\n",
    "        \n",
    "series = pd.Series(diction)"
   ]
  },
  {
   "cell_type": "code",
   "execution_count": 352,
   "metadata": {},
   "outputs": [],
   "source": [
    "cats_top20 = series.sort_values(ascending=False)[:20]\n",
    "plt.show((1000,1000))\n",
    "# cats_top20.plot.bar()"
   ]
  },
  {
   "cell_type": "code",
   "execution_count": 359,
   "metadata": {},
   "outputs": [],
   "source": [
    "investor_names = investments.dropna(subset=[\"investor_name\",\"raised_amount_usd\"],axis=0)\n",
    "all_names = investor_names.investor_name\n",
    "uniq_investors = all_names.unique()\n",
    "dict_invest = dict()\n",
    "for key in uniq_investors:\n",
    "    dict_invest[key] = 0\n",
    "for index,row in investor_names.iterrows():\n",
    "    name = row[\"investor_name\"]\n",
    "    dict_invest[name] += row[\"raised_amount_usd\"]/1e9\n",
    "\n",
    "series_invest = pd.Series(dict_invest)"
   ]
  },
  {
   "cell_type": "code",
   "execution_count": 444,
   "metadata": {},
   "outputs": [
    {
     "data": {
      "text/plain": [
       "<matplotlib.axes._subplots.AxesSubplot at 0x1403b6990>"
      ]
     },
     "execution_count": 444,
     "metadata": {},
     "output_type": "execute_result"
    },
    {
     "data": {
      "image/png": "[encoded data removed]",
      "text/plain": [
       "<Figure size 432x288 with 1 Axes>"
      ]
     },
     "metadata": {
      "needs_background": "light"
     },
     "output_type": "display_data"
    }
   ],
   "source": [
    "investor_region = investments.dropna(subset=[\"investor_region\"],axis=0)\n",
    "investor_regions = investor_region.investor_region\n",
    "top = investor_regions.value_counts()[:20]\n",
    "plt.show((1000,1000))\n",
    "top.plot.bar()\n",
    "# series_invest = pd.Series(dict_invest)"
   ]
  },
  {
   "cell_type": "code",
   "execution_count": 361,
   "metadata": {},
   "outputs": [
    {
     "data": {
      "text/plain": [
       "<matplotlib.axes._subplots.AxesSubplot at 0x128f3e790>"
      ]
     },
     "execution_count": 361,
     "metadata": {},
     "output_type": "execute_result"
    },
    {
     "data": {
      "image/png": "[encoded data removed]",
      "text/plain": [
       "<Figure size 432x288 with 1 Axes>"
      ]
     },
     "metadata": {
      "needs_background": "light"
     },
     "output_type": "display_data"
    }
   ],
   "source": [
    "investors_top20 = series_invest.sort_values(ascending=False)[:20]\n",
    "plt.show((1000,1000))\n",
    "investors_top20.plot.bar()"
   ]
  },
  {
   "cell_type": "code",
   "execution_count": 373,
   "metadata": {},
   "outputs": [],
   "source": [
    "top_investors = list(investors_top20.index)"
   ]
  },
  {
   "cell_type": "code",
   "execution_count": 371,
   "metadata": {},
   "outputs": [],
   "source": [
    "investor_sector = investments.dropna(subset=[\"investor_name\",\"company_market\",\"raised_amount_usd\"],axis=0)\n",
    "funding_by_investor_sector= investor_sector.groupby([\"investor_name\",\"company_market\"]).raised_amount_usd.sum()/1e9\n",
    "\n",
    "funding_top20 = funding_by_investor_sector.sort_values(ascending=False)[:30]\n",
    "# funding_top20\n",
    "# plt.show((1000,1000))\n",
    "# funding_top20.plot.bar()\n"
   ]
  },
  {
   "cell_type": "code",
   "execution_count": 372,
   "metadata": {},
   "outputs": [],
   "source": [
    "# list(funding_top20.index)"
   ]
  },
  {
   "cell_type": "code",
   "execution_count": 379,
   "metadata": {},
   "outputs": [],
   "source": [
    "top_investments = investments[investments.investor_name.isin(top_investors)]\n",
    "top_investments_market = investments.dropna(subset=[\"investor_name\",\"company_market\",\"raised_amount_usd\"],axis=0)\n",
    "top_funding_by_investor_sector= top_investments_market.groupby([\"company_market\"]).raised_amount_usd.sum()/1e9\n",
    "\n",
    "funding_top20 = top_funding_by_investor_sector.sort_values(ascending=False)[:30]\n",
    "# funding_top20\n",
    "# plt.show((1000,1000))\n",
    "# funding_top20.plot.bar()"
   ]
  },
  {
   "cell_type": "code",
   "execution_count": 393,
   "metadata": {},
   "outputs": [],
   "source": [
    "investments_type = investments.dropna(subset=[\"funding_round_type\",\"raised_amount_usd\"],axis=0)\n",
    "funding_type = investments_type.groupby([\"funding_round_type\"]).mean()/1e8\n",
    "funding_top20 = funding_type.raised_amount_usd.sort_values(ascending=False)[:20]\n",
    "# plt.show((1000,1000))\n",
    "# funding_top20.plot.bar()"
   ]
  },
  {
   "cell_type": "code",
   "execution_count": 410,
   "metadata": {},
   "outputs": [
    {
     "data": {
      "text/plain": [
       "<matplotlib.axes._subplots.AxesSubplot at 0x1295612d0>"
      ]
     },
     "execution_count": 410,
     "metadata": {},
     "output_type": "execute_result"
    },
    {
     "data": {
      "image/png": "[encoded data removed]",
      "text/plain": [
       "<Figure size 432x288 with 1 Axes>"
      ]
     },
     "metadata": {
      "needs_background": "light"
     },
     "output_type": "display_data"
    }
   ],
   "source": [
    "ccy = acquisitions.price_currency_code\n",
    "ccy.value_counts()\n",
    "plt.show((1000,1000))\n",
    "ccy_counts.plot.bar()"
   ]
  },
  {
   "cell_type": "code",
   "execution_count": 395,
   "metadata": {},
   "outputs": [],
   "source": [
    "acquisitions_markets = acquisitions.dropna(subset=[\"acquirer_market\",\"company_market\"],axis=0)\n",
    "# acquisitions_markets.map(lambda row: row.acquirer_market +\"|\" + row.company_market )\n",
    "# combined = acquisitions_markets[\"acquirer_market\"] +  acquisitions_markets[\"company_market\"]\n",
    "combined = acquisitions_markets[['acquirer_market', 'company_market']].agg('|'.join, axis=1)\n",
    "# top20 = combined.value_counts()[:20]\n",
    "# plt.show((1000,1000))\n",
    "# top20.plot.bar()"
   ]
  },
  {
   "cell_type": "code",
   "execution_count": 418,
   "metadata": {},
   "outputs": [],
   "source": [
    "# acquisitions_region = acquisitions.dropna(subset=[\"company_region\",\"acquirer_region\"],axis=0)\n",
    "# combined = acquisitions_region[['acquirer_region', 'company_region']].agg('|'.join, axis=1)\n",
    "# combined\n",
    "top20 = combined.value_counts()[:20]\n",
    "# plt.show((1000,1000))\n",
    "# top20.plot.bar()\n"
   ]
  },
  {
   "cell_type": "code",
   "execution_count": 429,
   "metadata": {},
   "outputs": [
    {
     "data": {
      "text/plain": [
       "<matplotlib.axes._subplots.AxesSubplot at 0x1253dc650>"
      ]
     },
     "execution_count": 429,
     "metadata": {},
     "output_type": "execute_result"
    },
    {
     "data": {
      "image/png": "[encoded data removed]",
      "text/plain": [
       "<Figure size 432x288 with 1 Axes>"
      ]
     },
     "metadata": {
      "needs_background": "light"
     },
     "output_type": "display_data"
    }
   ],
   "source": [
    "funded_year = investments.dropna(subset=[\"funded_year\"],axis=0)\n",
    "year = funded_year.funded_year\n",
    "top20 = year.value_counts().iloc[:20]\n",
    "plt.show((1000,1000))\n",
    "top20.plot.bar()"
   ]
  },
  {
   "cell_type": "code",
   "execution_count": 428,
   "metadata": {},
   "outputs": [
    {
     "name": "stdout",
     "output_type": "stream",
     "text": [
      "Q1    29662\n",
      "Q3    29231\n",
      "Q2    28878\n",
      "Q4    26735\n",
      "Name: funded_quarter, dtype: int64\n"
     ]
    },
    {
     "data": {
      "text/plain": [
       "<matplotlib.axes._subplots.AxesSubplot at 0x1253d33d0>"
      ]
     },
     "execution_count": 428,
     "metadata": {},
     "output_type": "execute_result"
    },
    {
     "data": {
      "image/png": "[encoded data removed]",
      "text/plain": [
       "<Figure size 432x288 with 1 Axes>"
      ]
     },
     "metadata": {
      "needs_background": "light"
     },
     "output_type": "display_data"
    }
   ],
   "source": [
    "funded_quarter = investments.dropna(subset=[\"funded_quarter\"],axis=0)\n",
    "quarter = funded_quarter.funded_quarter.map(lambda row: row.split(\"-\")[1])\n",
    "top20 = quarter.value_counts()\n",
    "print(top20)\n",
    "plt.show((1000,1000))\n",
    "top20.plot.bar()\n"
   ]
  },
  {
   "cell_type": "code",
   "execution_count": 437,
   "metadata": {},
   "outputs": [],
   "source": [
    "funded_month = investments.dropna(subset=[\"funded_month\"],axis=0)\n",
    "month = funded_month.funded_month.map(lambda row: row.split(\"-\")[1])\n",
    "top20 = month.value_counts()\n",
    "# print(top20)\n",
    "# plt.show((1000,1000))\n",
    "# top20.plot.bar()\n"
   ]
  },
  {
   "cell_type": "code",
   "execution_count": 441,
   "metadata": {},
   "outputs": [
    {
     "data": {
      "text/plain": [
       "<matplotlib.axes._subplots.AxesSubplot at 0x122353cd0>"
      ]
     },
     "execution_count": 441,
     "metadata": {},
     "output_type": "execute_result"
    },
    {
     "data": {
      "image/png": "[encoded data removed]",
      "text/plain": [
       "<Figure size 432x288 with 1 Axes>"
      ]
     },
     "metadata": {
      "needs_background": "light"
     },
     "output_type": "display_data"
    }
   ],
   "source": [
    "investor_category_list = investments.dropna(subset=[\"investor_market\"],axis=0)\n",
    "investor_market = investor_category_list.investor_market\n",
    "top20 = investor_market.value_counts()[:15]\n",
    "plt.show((1000,1000))\n",
    "top20.plot.bar()\n",
    "\n",
    "# categories = investments.dropna(subset=[\"investor_category_list\"],axis=0)\n",
    "# cats = categories.investor_category_list\n",
    "# uniq = set()\n",
    "# for cat in cats:\n",
    "#     split = cat.split(\"|\")[1:-1]\n",
    "#     for s in split:\n",
    "#         uniq.add(s)\n",
    "# print(len(uniq))\n",
    "# uniq\n"
   ]
  },
  {
   "cell_type": "code",
   "execution_count": null,
   "metadata": {},
   "outputs": [],
   "source": []
  },
  {
   "cell_type": "code",
   "execution_count": 97,
   "metadata": {},
   "outputs": [],
   "source": [
    "raised_amount1 = companies.groupby([\"name\"]).funding_total_usd.agg([\"sum\"])\n",
    "raised_amount2 = rounds.groupby([\"company_name\"]).raised_amount_usd.agg([\"sum\"])\n"
   ]
  },
  {
   "cell_type": "code",
   "execution_count": 98,
   "metadata": {},
   "outputs": [
    {
     "data": {
      "text/html": [
       "<div>\n",
       "<style scoped>\n",
       "    .dataframe tbody tr th:only-of-type {\n",
       "        vertical-align: middle;\n",
       "    }\n",
       "\n",
       "    .dataframe tbody tr th {\n",
       "        vertical-align: top;\n",
       "    }\n",
       "\n",
       "    .dataframe thead th {\n",
       "        text-align: right;\n",
       "    }\n",
       "</style>\n",
       "<table border=\"1\" class=\"dataframe\">\n",
       "  <thead>\n",
       "    <tr style=\"text-align: right;\">\n",
       "      <th></th>\n",
       "      <th>sum</th>\n",
       "    </tr>\n",
       "    <tr>\n",
       "      <th>name</th>\n",
       "      <th></th>\n",
       "    </tr>\n",
       "  </thead>\n",
       "  <tbody>\n",
       "    <tr>\n",
       "      <td>42</td>\n",
       "      <td>800000</td>\n",
       "    </tr>\n",
       "    <tr>\n",
       "      <td>1248</td>\n",
       "      <td>378812</td>\n",
       "    </tr>\n",
       "    <tr>\n",
       "      <td>1871</td>\n",
       "      <td>2500000</td>\n",
       "    </tr>\n",
       "    <tr>\n",
       "      <td>8868</td>\n",
       "      <td>0</td>\n",
       "    </tr>\n",
       "    <tr>\n",
       "      <td>21000000</td>\n",
       "      <td>5050000</td>\n",
       "    </tr>\n",
       "    <tr>\n",
       "      <td>...</td>\n",
       "      <td>...</td>\n",
       "    </tr>\n",
       "    <tr>\n",
       "      <td>​Anew Oncology</td>\n",
       "      <td>554970</td>\n",
       "    </tr>\n",
       "    <tr>\n",
       "      <td>​Shwrüm</td>\n",
       "      <td>50000</td>\n",
       "    </tr>\n",
       "    <tr>\n",
       "      <td>​WestEd</td>\n",
       "      <td>3000000</td>\n",
       "    </tr>\n",
       "    <tr>\n",
       "      <td>​​​Tokalas</td>\n",
       "      <td>3090000</td>\n",
       "    </tr>\n",
       "    <tr>\n",
       "      <td>豆浆油条</td>\n",
       "      <td>10000</td>\n",
       "    </tr>\n",
       "  </tbody>\n",
       "</table>\n",
       "<p>49350 rows × 1 columns</p>\n",
       "</div>"
      ],
      "text/plain": [
       "                    sum\n",
       "name                   \n",
       "42               800000\n",
       "1248             378812\n",
       "1871            2500000\n",
       "8868                  0\n",
       "21000000        5050000\n",
       "...                 ...\n",
       "​Anew Oncology   554970\n",
       "​Shwrüm           50000\n",
       "​WestEd         3000000\n",
       "​​​Tokalas      3090000\n",
       "豆浆油条              10000\n",
       "\n",
       "[49350 rows x 1 columns]"
      ]
     },
     "execution_count": 98,
     "metadata": {},
     "output_type": "execute_result"
    }
   ],
   "source": [
    "raised_amount1"
   ]
  },
  {
   "cell_type": "code",
   "execution_count": 99,
   "metadata": {},
   "outputs": [
    {
     "data": {
      "text/html": [
       "<div>\n",
       "<style scoped>\n",
       "    .dataframe tbody tr th:only-of-type {\n",
       "        vertical-align: middle;\n",
       "    }\n",
       "\n",
       "    .dataframe tbody tr th {\n",
       "        vertical-align: top;\n",
       "    }\n",
       "\n",
       "    .dataframe thead th {\n",
       "        text-align: right;\n",
       "    }\n",
       "</style>\n",
       "<table border=\"1\" class=\"dataframe\">\n",
       "  <thead>\n",
       "    <tr style=\"text-align: right;\">\n",
       "      <th></th>\n",
       "      <th>sum</th>\n",
       "    </tr>\n",
       "    <tr>\n",
       "      <th>company_name</th>\n",
       "      <th></th>\n",
       "    </tr>\n",
       "  </thead>\n",
       "  <tbody>\n",
       "    <tr>\n",
       "      <td>42</td>\n",
       "      <td>800000.0</td>\n",
       "    </tr>\n",
       "    <tr>\n",
       "      <td>1248</td>\n",
       "      <td>378812.0</td>\n",
       "    </tr>\n",
       "    <tr>\n",
       "      <td>1871</td>\n",
       "      <td>2500000.0</td>\n",
       "    </tr>\n",
       "    <tr>\n",
       "      <td>8868</td>\n",
       "      <td>0.0</td>\n",
       "    </tr>\n",
       "    <tr>\n",
       "      <td>21000000</td>\n",
       "      <td>5050000.0</td>\n",
       "    </tr>\n",
       "    <tr>\n",
       "      <td>...</td>\n",
       "      <td>...</td>\n",
       "    </tr>\n",
       "    <tr>\n",
       "      <td>​Anew Oncology</td>\n",
       "      <td>554970.0</td>\n",
       "    </tr>\n",
       "    <tr>\n",
       "      <td>​Shwrüm</td>\n",
       "      <td>50000.0</td>\n",
       "    </tr>\n",
       "    <tr>\n",
       "      <td>​WestEd</td>\n",
       "      <td>3000000.0</td>\n",
       "    </tr>\n",
       "    <tr>\n",
       "      <td>​​​Tokalas</td>\n",
       "      <td>3090000.0</td>\n",
       "    </tr>\n",
       "    <tr>\n",
       "      <td>豆浆油条</td>\n",
       "      <td>10000.0</td>\n",
       "    </tr>\n",
       "  </tbody>\n",
       "</table>\n",
       "<p>49344 rows × 1 columns</p>\n",
       "</div>"
      ],
      "text/plain": [
       "                      sum\n",
       "company_name             \n",
       "42               800000.0\n",
       "1248             378812.0\n",
       "1871            2500000.0\n",
       "8868                  0.0\n",
       "21000000        5050000.0\n",
       "...                   ...\n",
       "​Anew Oncology   554970.0\n",
       "​Shwrüm           50000.0\n",
       "​WestEd         3000000.0\n",
       "​​​Tokalas      3090000.0\n",
       "豆浆油条              10000.0\n",
       "\n",
       "[49344 rows x 1 columns]"
      ]
     },
     "execution_count": 99,
     "metadata": {},
     "output_type": "execute_result"
    }
   ],
   "source": [
    "raised_amount2"
   ]
  },
  {
   "cell_type": "code",
   "execution_count": 78,
   "metadata": {},
   "outputs": [],
   "source": [
    "\n"
   ]
  },
  {
   "cell_type": "code",
   "execution_count": 83,
   "metadata": {},
   "outputs": [
    {
     "data": {
      "text/html": [
       "<div>\n",
       "<style scoped>\n",
       "    .dataframe tbody tr th:only-of-type {\n",
       "        vertical-align: middle;\n",
       "    }\n",
       "\n",
       "    .dataframe tbody tr th {\n",
       "        vertical-align: top;\n",
       "    }\n",
       "\n",
       "    .dataframe thead th {\n",
       "        text-align: right;\n",
       "    }\n",
       "</style>\n",
       "<table border=\"1\" class=\"dataframe\">\n",
       "  <thead>\n",
       "    <tr style=\"text-align: right;\">\n",
       "      <th></th>\n",
       "      <th>min</th>\n",
       "      <th>max</th>\n",
       "      <th>sum</th>\n",
       "      <th>mean</th>\n",
       "      <th>count</th>\n",
       "    </tr>\n",
       "    <tr>\n",
       "      <th>funding_round_type</th>\n",
       "      <th></th>\n",
       "      <th></th>\n",
       "      <th></th>\n",
       "      <th></th>\n",
       "      <th></th>\n",
       "    </tr>\n",
       "  </thead>\n",
       "  <tbody>\n",
       "    <tr>\n",
       "      <td>angel</td>\n",
       "      <td>0.0</td>\n",
       "      <td>6.359026e+07</td>\n",
       "      <td>3.234184e+09</td>\n",
       "      <td>8.993836e+05</td>\n",
       "      <td>3596</td>\n",
       "    </tr>\n",
       "    <tr>\n",
       "      <td>convertible_note</td>\n",
       "      <td>0.0</td>\n",
       "      <td>3.000000e+08</td>\n",
       "      <td>1.159074e+09</td>\n",
       "      <td>1.833978e+06</td>\n",
       "      <td>632</td>\n",
       "    </tr>\n",
       "    <tr>\n",
       "      <td>debt_financing</td>\n",
       "      <td>0.0</td>\n",
       "      <td>2.127194e+10</td>\n",
       "      <td>9.334670e+10</td>\n",
       "      <td>1.684047e+07</td>\n",
       "      <td>5543</td>\n",
       "    </tr>\n",
       "    <tr>\n",
       "      <td>equity_crowdfunding</td>\n",
       "      <td>0.0</td>\n",
       "      <td>2.500000e+07</td>\n",
       "      <td>3.047023e+08</td>\n",
       "      <td>5.460615e+05</td>\n",
       "      <td>558</td>\n",
       "    </tr>\n",
       "    <tr>\n",
       "      <td>grant</td>\n",
       "      <td>0.0</td>\n",
       "      <td>7.500000e+08</td>\n",
       "      <td>8.050745e+09</td>\n",
       "      <td>5.677535e+06</td>\n",
       "      <td>1418</td>\n",
       "    </tr>\n",
       "    <tr>\n",
       "      <td>post_ipo_debt</td>\n",
       "      <td>90750.0</td>\n",
       "      <td>5.800000e+09</td>\n",
       "      <td>2.192259e+10</td>\n",
       "      <td>2.673486e+08</td>\n",
       "      <td>82</td>\n",
       "    </tr>\n",
       "    <tr>\n",
       "      <td>post_ipo_equity</td>\n",
       "      <td>77.0</td>\n",
       "      <td>3.200000e+09</td>\n",
       "      <td>3.010150e+10</td>\n",
       "      <td>7.738174e+07</td>\n",
       "      <td>389</td>\n",
       "    </tr>\n",
       "    <tr>\n",
       "      <td>private_equity</td>\n",
       "      <td>0.0</td>\n",
       "      <td>3.500000e+09</td>\n",
       "      <td>1.022582e+11</td>\n",
       "      <td>6.231457e+07</td>\n",
       "      <td>1641</td>\n",
       "    </tr>\n",
       "    <tr>\n",
       "      <td>product_crowdfunding</td>\n",
       "      <td>0.0</td>\n",
       "      <td>5.200000e+07</td>\n",
       "      <td>3.497356e+08</td>\n",
       "      <td>1.540686e+06</td>\n",
       "      <td>227</td>\n",
       "    </tr>\n",
       "    <tr>\n",
       "      <td>secondary_market</td>\n",
       "      <td>156929.0</td>\n",
       "      <td>6.806116e+08</td>\n",
       "      <td>1.901184e+09</td>\n",
       "      <td>8.641745e+07</td>\n",
       "      <td>22</td>\n",
       "    </tr>\n",
       "    <tr>\n",
       "      <td>seed</td>\n",
       "      <td>0.0</td>\n",
       "      <td>1.300000e+08</td>\n",
       "      <td>1.074900e+10</td>\n",
       "      <td>6.495257e+05</td>\n",
       "      <td>16549</td>\n",
       "    </tr>\n",
       "    <tr>\n",
       "      <td>undisclosed</td>\n",
       "      <td>0.0</td>\n",
       "      <td>2.924328e+08</td>\n",
       "      <td>6.437880e+09</td>\n",
       "      <td>5.559482e+06</td>\n",
       "      <td>1158</td>\n",
       "    </tr>\n",
       "    <tr>\n",
       "      <td>venture</td>\n",
       "      <td>0.0</td>\n",
       "      <td>1.200000e+09</td>\n",
       "      <td>3.709624e+11</td>\n",
       "      <td>9.457537e+06</td>\n",
       "      <td>39224</td>\n",
       "    </tr>\n",
       "  </tbody>\n",
       "</table>\n",
       "</div>"
      ],
      "text/plain": [
       "                           min           max           sum          mean  \\\n",
       "funding_round_type                                                         \n",
       "angel                      0.0  6.359026e+07  3.234184e+09  8.993836e+05   \n",
       "convertible_note           0.0  3.000000e+08  1.159074e+09  1.833978e+06   \n",
       "debt_financing             0.0  2.127194e+10  9.334670e+10  1.684047e+07   \n",
       "equity_crowdfunding        0.0  2.500000e+07  3.047023e+08  5.460615e+05   \n",
       "grant                      0.0  7.500000e+08  8.050745e+09  5.677535e+06   \n",
       "post_ipo_debt          90750.0  5.800000e+09  2.192259e+10  2.673486e+08   \n",
       "post_ipo_equity           77.0  3.200000e+09  3.010150e+10  7.738174e+07   \n",
       "private_equity             0.0  3.500000e+09  1.022582e+11  6.231457e+07   \n",
       "product_crowdfunding       0.0  5.200000e+07  3.497356e+08  1.540686e+06   \n",
       "secondary_market      156929.0  6.806116e+08  1.901184e+09  8.641745e+07   \n",
       "seed                       0.0  1.300000e+08  1.074900e+10  6.495257e+05   \n",
       "undisclosed                0.0  2.924328e+08  6.437880e+09  5.559482e+06   \n",
       "venture                    0.0  1.200000e+09  3.709624e+11  9.457537e+06   \n",
       "\n",
       "                      count  \n",
       "funding_round_type           \n",
       "angel                  3596  \n",
       "convertible_note        632  \n",
       "debt_financing         5543  \n",
       "equity_crowdfunding     558  \n",
       "grant                  1418  \n",
       "post_ipo_debt            82  \n",
       "post_ipo_equity         389  \n",
       "private_equity         1641  \n",
       "product_crowdfunding    227  \n",
       "secondary_market         22  \n",
       "seed                  16549  \n",
       "undisclosed            1158  \n",
       "venture               39224  "
      ]
     },
     "execution_count": 83,
     "metadata": {},
     "output_type": "execute_result"
    }
   ],
   "source": [
    "funding_info = rounds.groupby([\"funding_round_type\"]).raised_amount_usd.agg([\"min\",\"max\",\"sum\",\"mean\",\"count\"]) #\"company_name\",\n",
    "funding_info"
   ]
  },
  {
   "cell_type": "code",
   "execution_count": 92,
   "metadata": {},
   "outputs": [
    {
     "data": {
      "text/plain": [
       "company_permalink                      /organization/applied-logic-nigeria\n",
       "company_name                                         Applied Logic US Inc.\n",
       "company_category_list                                 |Big Data|Analytics|\n",
       "company_market                                                    Big Data\n",
       "company_country_code                                                   NGA\n",
       "company_state_code                                                     NaN\n",
       "company_region                                                       Abuja\n",
       "company_city                                                         Abuja\n",
       "funding_round_permalink    /funding-round/31ef02eab115cf817e8692b97408c96d\n",
       "funding_round_type                                                 venture\n",
       "funding_round_code                                                     NaN\n",
       "funded_at                                              2011-07-27 00:00:00\n",
       "funded_month                                                       2011-07\n",
       "funded_quarter                                                     2011-Q3\n",
       "funded_year                                                           2011\n",
       "raised_amount_usd                                                        0\n",
       "Name: 5006, dtype: object"
      ]
     },
     "execution_count": 92,
     "metadata": {},
     "output_type": "execute_result"
    }
   ],
   "source": [
    "venture = rounds[rounds[\"funding_round_type\"] == \"venture\"]\n",
    "# type_[\"raised_amount_usd\" == 0]\n",
    "venture[venture[\"raised_amount_usd\"] == 0]\n",
    "rounds.iloc[5006]"
   ]
  },
  {
   "cell_type": "code",
   "execution_count": 53,
   "metadata": {},
   "outputs": [
    {
     "data": {
      "text/plain": [
       "count                         83869\n",
       "unique                        49344\n",
       "top       Solarflare Communications\n",
       "freq                             18\n",
       "Name: company_name, dtype: object"
      ]
     },
     "execution_count": 53,
     "metadata": {},
     "output_type": "execute_result"
    }
   ],
   "source": [
    "names = rounds.company_name\n",
    "names.describe()"
   ]
  },
  {
   "cell_type": "code",
   "execution_count": 125,
   "metadata": {},
   "outputs": [
    {
     "data": {
      "text/html": [
       "<div>\n",
       "<style scoped>\n",
       "    .dataframe tbody tr th:only-of-type {\n",
       "        vertical-align: middle;\n",
       "    }\n",
       "\n",
       "    .dataframe tbody tr th {\n",
       "        vertical-align: top;\n",
       "    }\n",
       "\n",
       "    .dataframe thead th {\n",
       "        text-align: right;\n",
       "    }\n",
       "</style>\n",
       "<table border=\"1\" class=\"dataframe\">\n",
       "  <thead>\n",
       "    <tr style=\"text-align: right;\">\n",
       "      <th></th>\n",
       "      <th>content</th>\n",
       "      <th>month_str</th>\n",
       "      <th>quarter_str</th>\n",
       "      <th>year_str</th>\n",
       "      <th>value</th>\n",
       "    </tr>\n",
       "  </thead>\n",
       "  <tbody>\n",
       "    <tr>\n",
       "      <td>0</td>\n",
       "      <td>Profiles: Organizations</td>\n",
       "      <td>2007-05</td>\n",
       "      <td>2007-Q2</td>\n",
       "      <td>2007</td>\n",
       "      <td>14</td>\n",
       "    </tr>\n",
       "    <tr>\n",
       "      <td>1</td>\n",
       "      <td>Profiles: Organizations</td>\n",
       "      <td>2007-06</td>\n",
       "      <td>2007-Q2</td>\n",
       "      <td>2007</td>\n",
       "      <td>96</td>\n",
       "    </tr>\n",
       "    <tr>\n",
       "      <td>2</td>\n",
       "      <td>Profiles: Organizations</td>\n",
       "      <td>2007-07</td>\n",
       "      <td>2007-Q3</td>\n",
       "      <td>2007</td>\n",
       "      <td>259</td>\n",
       "    </tr>\n",
       "    <tr>\n",
       "      <td>3</td>\n",
       "      <td>Profiles: Organizations</td>\n",
       "      <td>2007-08</td>\n",
       "      <td>2007-Q3</td>\n",
       "      <td>2007</td>\n",
       "      <td>522</td>\n",
       "    </tr>\n",
       "    <tr>\n",
       "      <td>4</td>\n",
       "      <td>Profiles: Organizations</td>\n",
       "      <td>2007-09</td>\n",
       "      <td>2007-Q3</td>\n",
       "      <td>2007</td>\n",
       "      <td>219</td>\n",
       "    </tr>\n",
       "  </tbody>\n",
       "</table>\n",
       "</div>"
      ],
      "text/plain": [
       "                   content month_str quarter_str  year_str  value\n",
       "0  Profiles: Organizations   2007-05     2007-Q2      2007     14\n",
       "1  Profiles: Organizations   2007-06     2007-Q2      2007     96\n",
       "2  Profiles: Organizations   2007-07     2007-Q3      2007    259\n",
       "3  Profiles: Organizations   2007-08     2007-Q3      2007    522\n",
       "4  Profiles: Organizations   2007-09     2007-Q3      2007    219"
      ]
     },
     "execution_count": 125,
     "metadata": {},
     "output_type": "execute_result"
    }
   ],
   "source": [
    "additions = data[\"Additions\"]\n",
    "content = additions.content\n",
    "# print(content.unique())\n",
    "additions.head()"
   ]
  },
  {
   "cell_type": "code",
   "execution_count": 130,
   "metadata": {},
   "outputs": [],
   "source": [
    "# additions.groupby([\"content\"]).value.count()"
   ]
  },
  {
   "cell_type": "code",
   "execution_count": null,
   "metadata": {},
   "outputs": [],
   "source": []
  }
 ],
 "metadata": {
  "kernelspec": {
   "display_name": "Python 3",
   "language": "python",
   "name": "python3"
  },
  "language_info": {
   "codemirror_mode": {
    "name": "ipython",
    "version": 3
   },
   "file_extension": ".py",
   "mimetype": "text/x-python",
   "name": "python",
   "nbconvert_exporter": "python",
   "pygments_lexer": "ipython3",
   "version": "3.7.4"
  }
 },
 "nbformat": 4,
 "nbformat_minor": 2
}
